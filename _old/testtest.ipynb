{
 "cells": [
  {
   "cell_type": "code",
   "execution_count": null,
   "metadata": {
    "collapsed": true
   },
   "outputs": [],
   "source": [
    "import os\n",
    "import numpy as np\n",
    "import matplotlib.pyplot as plt\n",
    "from scipy import signal\n",
    "from skimage.color import rgb2gray\n",
    "import numpy as np, matplotlib.pyplot as plt\n",
    "from tqdm.notebook import tqdm\n",
    "from skimage.color import label2rgb\n",
    "from skimage.filters.rank import entropy\n",
    "from skimage import color, io, morphology, filters\n",
    "from skimage.feature import graycomatrix, greycoprops\n",
    "from skimage.segmentation import find_boundaries, mark_boundaries\n",
    "from skimage import io, data, transform"
   ]
  },
  {
   "cell_type": "code",
   "execution_count": null,
   "outputs": [],
   "source": [
    "file_list = [filename for root, dirnames, filenames in os.walk(\"../_data/textury_train\") for filename in filenames]\n",
    "# file_list"
   ],
   "metadata": {
    "collapsed": false
   }
  },
  {
   "cell_type": "code",
   "execution_count": null,
   "outputs": [],
   "source": [
    "\n",
    "directory_path = \"../_data/textury_train\"\n",
    "filter_string = \"example\"  # Replace \"example\" with the string you want to check\n",
    "\n",
    "# Use a list comprehension to get a list of filenames with a specific string\n",
    "file_names_of_images = [x for x in file_list if x.startswith(\"tm\")]\n",
    "file_names_of_masks = [x for x in file_list if x.startswith(\"mask\")]\n",
    "file_names_of_gt = [x for x in file_list if x.startswith(\"gt\")]\n",
    "set(file_names_of_masks)\n"
   ],
   "metadata": {
    "collapsed": false
   }
  },
  {
   "cell_type": "code",
   "execution_count": null,
   "outputs": [],
   "source": [],
   "metadata": {
    "collapsed": false
   }
  },
  {
   "cell_type": "code",
   "execution_count": null,
   "outputs": [],
   "source": [],
   "metadata": {
    "collapsed": false
   }
  },
  {
   "cell_type": "code",
   "execution_count": null,
   "outputs": [],
   "source": [
    "## Exmaple ofile_names_of_imagesf  one"
   ],
   "metadata": {
    "collapsed": false
   }
  },
  {
   "cell_type": "code",
   "execution_count": null,
   "outputs": [],
   "source": [
    "set(file_names_of_masks[0])"
   ],
   "metadata": {
    "collapsed": false
   }
  },
  {
   "cell_type": "code",
   "execution_count": null,
   "outputs": [],
   "source": [
    "file_names_of_images[0]"
   ],
   "metadata": {
    "collapsed": false
   }
  },
  {
   "cell_type": "code",
   "execution_count": null,
   "outputs": [],
   "source": [
    "image"
   ],
   "metadata": {
    "collapsed": false
   }
  },
  {
   "cell_type": "code",
   "execution_count": null,
   "outputs": [],
   "source": [
    "project_path = \"/Users/hlibokymaros/Documents/KKUI/Computer-vision\""
   ],
   "metadata": {
    "collapsed": false
   }
  },
  {
   "cell_type": "code",
   "execution_count": null,
   "outputs": [],
   "source": [
    "image = plt.imread(os.path.join(project_path,\"_data\", \"textury_train\",'tm1_1_1.png'))\n",
    "plt.imshow(image, cmap=\"gray\")"
   ],
   "metadata": {
    "collapsed": false
   }
  },
  {
   "cell_type": "code",
   "execution_count": null,
   "outputs": [],
   "source": [
    "image = np.array(image*255, dtype=np.uint8)\n",
    "plt.figure(figsize= (9, 9))\n",
    "plt.title('Entropy')\n",
    "im_entropy = entropy(image, morphology.disk(5))\n",
    "plt.imshow(im_entropy)"
   ],
   "metadata": {
    "collapsed": false
   }
  },
  {
   "cell_type": "code",
   "execution_count": null,
   "outputs": [],
   "source": [
    "image.max()"
   ],
   "metadata": {
    "collapsed": false
   }
  },
  {
   "cell_type": "code",
   "execution_count": null,
   "outputs": [],
   "source": [
    "# Extract a window from the grayscale image, where the size of the window is defined by window_size.\n",
    "# Calculate the Gray-Level Co-occurrence Matrix (GLCM) for the window using greycomatrix from scikit-image.\n",
    "# Calculate the specified texture properties (contrast, correlation, energy, homogeneity) from the GLCM using greycoprops.\n",
    "# Store the calculated texture properties in the corresponding matrices (im_contrast, im_correlation, im_energy, im_homogeneity) at the appropriate location.\n",
    "# The resulting matrices now contain the texture properties for different sections of the image, which you can use for further analysis or visualization.\n",
    "# Ignore all warnings\n",
    "import warnings\n",
    "# Ignore DeprecationWarning\n",
    "warnings.filterwarnings('ignore', category=DeprecationWarning, module='skimage')\n",
    "\n",
    "# Define the parameters for texture analysis\n",
    "distances = [1]\n",
    "angles = [1]\n",
    "properties = ['contrast', 'correlation', 'energy', 'homogeneity']\n",
    "window_size = 9\n",
    "\n",
    "# Initialize matrices to store texture properties\n",
    "im_contrast = np.zeros_like(im_entropy)\n",
    "im_correlation = np.zeros_like(im_entropy)\n",
    "im_energy = np.zeros_like(im_entropy)\n",
    "im_homogeneity = np.zeros_like(im_entropy)\n",
    "\n",
    "# Iterate through image slices to calculate texture properties\n",
    "for i in tqdm(range(0, im_entropy.shape[0] - window_size)):\n",
    "    for j in range(0, im_entropy.shape[1] - window_size):\n",
    "\n",
    "        # Extract a window from the grayscale image\n",
    "        window = image[i:i + window_size, j:j + window_size]\n",
    "\n",
    "        # Calculate the gray-level co-occurrence matrix (GLCM) for the window\n",
    "        glcm = graycomatrix(window,\n",
    "                            distances=distances,\n",
    "                            angles=angles,\n",
    "                            symmetric=True,\n",
    "                            normed=True)\n",
    "\n",
    "        # Calculate and store texture properties in the corresponding matrices\n",
    "        feats = np.hstack([greycoprops(glcm, prop).ravel() for prop in properties])\n",
    "        im_contrast[i, j] = feats[0]\n",
    "        im_correlation[i, j] = feats[1]\n",
    "        im_energy[i, j] = feats[2]\n",
    "        im_homogeneity[i, j] = feats[3]"
   ],
   "metadata": {
    "collapsed": false,
    "is_executing": true
   }
  },
  {
   "cell_type": "code",
   "execution_count": null,
   "outputs": [],
   "source": [
    "plt.figure(figsize=(20,20))\n",
    "plt.subplot(221)\n",
    "plt.title('Contrast')\n",
    "plt.imshow(im_contrast)\n",
    "\n",
    "plt.subplot(222)\n",
    "plt.title('Correlation')\n",
    "plt.imshow(im_correlation)\n",
    "\n",
    "plt.subplot(223)\n",
    "plt.title('Energy')\n",
    "plt.imshow(im_energy)\n",
    "\n",
    "plt.subplot(224)\n",
    "plt.title('Homogeneity')\n",
    "plt.imshow(im_homogeneity)"
   ],
   "metadata": {
    "collapsed": false
   }
  },
  {
   "cell_type": "code",
   "execution_count": null,
   "outputs": [],
   "source": [
    "assert False"
   ],
   "metadata": {
    "collapsed": false
   }
  },
  {
   "cell_type": "code",
   "execution_count": null,
   "outputs": [],
   "source": [
    "plt.figure(figsize=(20,20))\n",
    "plt.subplot(221)\n",
    "plt.title('Contrast')\n",
    "plt.imshow(im_contrast)\n",
    "\n",
    "plt.subplot(222)\n",
    "plt.title('Correlation')\n",
    "plt.imshow(im_correlation)\n",
    "\n",
    "plt.subplot(223)\n",
    "plt.title('Energy')\n",
    "plt.imshow(im_energy)\n",
    "\n",
    "plt.subplot(224)\n",
    "plt.title('Homogeneity')\n",
    "plt.imshow(im_homogeneity)"
   ],
   "metadata": {
    "collapsed": false
   }
  },
  {
   "cell_type": "code",
   "execution_count": null,
   "outputs": [],
   "source": [],
   "metadata": {
    "collapsed": false
   }
  },
  {
   "cell_type": "code",
   "execution_count": null,
   "outputs": [],
   "source": [
    "plt.imshow(im_homogeneity > 0.2)"
   ],
   "metadata": {
    "collapsed": false
   }
  },
  {
   "cell_type": "code",
   "execution_count": null,
   "outputs": [],
   "source": [],
   "metadata": {
    "collapsed": false
   }
  },
  {
   "cell_type": "code",
   "execution_count": null,
   "outputs": [],
   "source": [],
   "metadata": {
    "collapsed": false
   }
  },
  {
   "cell_type": "code",
   "execution_count": null,
   "outputs": [],
   "source": [],
   "metadata": {
    "collapsed": false
   }
  },
  {
   "cell_type": "code",
   "execution_count": null,
   "outputs": [],
   "source": [],
   "metadata": {
    "collapsed": false
   }
  },
  {
   "cell_type": "code",
   "execution_count": null,
   "outputs": [],
   "source": [],
   "metadata": {
    "collapsed": false
   }
  },
  {
   "cell_type": "code",
   "execution_count": null,
   "outputs": [],
   "source": [],
   "metadata": {
    "collapsed": false
   }
  },
  {
   "cell_type": "code",
   "execution_count": null,
   "outputs": [],
   "source": [],
   "metadata": {
    "collapsed": false
   }
  },
  {
   "cell_type": "code",
   "execution_count": null,
   "outputs": [],
   "source": [],
   "metadata": {
    "collapsed": false
   }
  },
  {
   "cell_type": "code",
   "execution_count": null,
   "outputs": [],
   "source": [],
   "metadata": {
    "collapsed": false
   }
  },
  {
   "cell_type": "code",
   "execution_count": null,
   "outputs": [],
   "source": [
    "mask = plt.imread(os.path.join(project_path,\"_data\", \"textury_train\",'gt1_1.png'))\n",
    "plt.imshow(mask, cmap=\"gray\")\n",
    "print(np.unique(mask*255))"
   ],
   "metadata": {
    "collapsed": false
   }
  },
  {
   "cell_type": "code",
   "execution_count": null,
   "outputs": [],
   "source": [
    "image = plt.imread(os.path.join(project_path,\"_data\", \"textury_train\",'mask1_1.png'))\n",
    "plt.imshow(image, cmap=\"gray\")"
   ],
   "metadata": {
    "collapsed": false
   }
  },
  {
   "cell_type": "markdown",
   "source": [],
   "metadata": {
    "collapsed": false
   }
  },
  {
   "cell_type": "code",
   "execution_count": null,
   "outputs": [],
   "source": [
    "print(file_names_of_masks[0])\n",
    "image = plt.imread(os.path.join(project_path,\"_data\", \"textury_train\",file_names_of_masks[0]))\n",
    "plt.imshow(image, cmap=\"gray\")"
   ],
   "metadata": {
    "collapsed": false
   }
  },
  {
   "cell_type": "code",
   "execution_count": null,
   "outputs": [],
   "source": [
    "coins = data.coins()\n",
    "coins = coins[75:, :]\n",
    "plt.rcParams['font.size']=18\n",
    "plt.figure(figsize= (15, 10))\n",
    "plt.subplot(121)\n",
    "plt.imshow(coins, cmap= 'gray')\n",
    "plt.subplot(122)\n",
    "\n",
    "threshold = 100\n",
    "# threshold = 50\n",
    "# threshold = 150\n",
    "segmentation_mask_of_coins = coins > threshold\n",
    "\n",
    "plt.imshow(segmentation_mask_of_coins, cmap=\"gray\")"
   ],
   "metadata": {
    "collapsed": false
   }
  },
  {
   "cell_type": "code",
   "execution_count": null,
   "outputs": [],
   "source": [
    "coins"
   ],
   "metadata": {
    "collapsed": false
   }
  },
  {
   "cell_type": "code",
   "execution_count": null,
   "outputs": [],
   "source": [
    "img_test = np.array([1,2,3,4,5,6,7,8,9,34,3,3,5,12,3])\n",
    "img_test"
   ],
   "metadata": {
    "collapsed": false
   }
  },
  {
   "cell_type": "code",
   "execution_count": null,
   "outputs": [],
   "source": [
    "print(img_test > 5)"
   ],
   "metadata": {
    "collapsed": false
   }
  },
  {
   "cell_type": "code",
   "execution_count": null,
   "outputs": [],
   "source": [
    "np.unique(segmentation_mask_of_coins)"
   ],
   "metadata": {
    "collapsed": false
   }
  },
  {
   "cell_type": "code",
   "execution_count": null,
   "outputs": [],
   "source": [
    "img_test = np.array([1,2,3,4])\n",
    "mask_test = np.array([1,0,1,0])\n",
    "\n",
    "img_test * mask_test"
   ],
   "metadata": {
    "collapsed": false
   }
  },
  {
   "cell_type": "code",
   "execution_count": null,
   "outputs": [],
   "source": [],
   "metadata": {
    "collapsed": false
   }
  }
 ],
 "metadata": {
  "kernelspec": {
   "display_name": "Python 3",
   "language": "python",
   "name": "python3"
  },
  "language_info": {
   "codemirror_mode": {
    "name": "ipython",
    "version": 2
   },
   "file_extension": ".py",
   "mimetype": "text/x-python",
   "name": "python",
   "nbconvert_exporter": "python",
   "pygments_lexer": "ipython2",
   "version": "2.7.6"
  }
 },
 "nbformat": 4,
 "nbformat_minor": 0
}
