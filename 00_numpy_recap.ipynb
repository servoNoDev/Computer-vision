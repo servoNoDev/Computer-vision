{
 "cells": [
  {
   "cell_type": "markdown",
   "source": [
    "# Computer vision - Week_00 - numpy recap\n",
    "\n",
    "NumPy stands for Numerical Python. It is a Python library that provides support for large, multi-dimensional arrays and matrices, along with a range of mathematical functions to operate on these arrays.\n",
    "\n",
    "NumPy is widely used in scientific computing, data analysis, and machine learning. It provides efficient storage and manipulation of large arrays of numerical data, making it easier to work with data in a variety of formats.\n",
    "\n",
    "# Python common data structures"
   ],
   "metadata": {
    "collapsed": false
   }
  },
  {
   "cell_type": "code",
   "execution_count": 2,
   "outputs": [
    {
     "data": {
      "text/plain": "[5, 2345, 8]"
     },
     "execution_count": 2,
     "metadata": {},
     "output_type": "execute_result"
    }
   ],
   "source": [
    "my_list = [5,2345,8]\n",
    "my_list"
   ],
   "metadata": {
    "collapsed": false,
    "ExecuteTime": {
     "end_time": "2023-09-25T08:51:20.710627Z",
     "start_time": "2023-09-25T08:51:20.700299Z"
    }
   }
  },
  {
   "cell_type": "code",
   "execution_count": 37,
   "outputs": [
    {
     "data": {
      "text/plain": "list"
     },
     "execution_count": 37,
     "metadata": {},
     "output_type": "execute_result"
    }
   ],
   "source": [
    "type(my_list)"
   ],
   "metadata": {
    "collapsed": false
   }
  },
  {
   "cell_type": "code",
   "execution_count": 50,
   "outputs": [
    {
     "data": {
      "text/plain": "3"
     },
     "execution_count": 50,
     "metadata": {},
     "output_type": "execute_result"
    }
   ],
   "source": [
    "len(my_list)"
   ],
   "metadata": {
    "collapsed": false
   }
  },
  {
   "cell_type": "code",
   "execution_count": 40,
   "outputs": [
    {
     "data": {
      "text/plain": "{3, 4, 5, 6, 7, 8}"
     },
     "execution_count": 40,
     "metadata": {},
     "output_type": "execute_result"
    }
   ],
   "source": [
    "new_set = set(my_list)\n",
    "new_set"
   ],
   "metadata": {
    "collapsed": false
   }
  },
  {
   "cell_type": "code",
   "execution_count": 68,
   "outputs": [],
   "source": [
    "data = {\"my_value\" : 35,\n",
    " \"my_age\": 2345,\n",
    " \"my_school\": 324536}\n",
    "\n",
    "your_data = {\"my_value\" : 35,\n",
    "        \"my_age\": 234546,\n",
    "        \"my_school\": 'TULE'}"
   ],
   "metadata": {
    "collapsed": false
   }
  },
  {
   "cell_type": "code",
   "execution_count": 69,
   "outputs": [],
   "source": [
    "database = [data, data.copy() ,data.copy(), your_data]"
   ],
   "metadata": {
    "collapsed": false
   }
  },
  {
   "cell_type": "code",
   "execution_count": 71,
   "outputs": [],
   "source": [
    "database[0][\"my_age\"] = 999999"
   ],
   "metadata": {
    "collapsed": false
   }
  },
  {
   "cell_type": "code",
   "execution_count": 72,
   "outputs": [
    {
     "data": {
      "text/plain": "[{'my_value': 35, 'my_age': 999999, 'my_school': 324536},\n {'my_value': 35, 'my_age': 2345, 'my_school': 324536},\n {'my_value': 35, 'my_age': 2345, 'my_school': 324536},\n {'my_value': 35, 'my_age': 234546, 'my_school': 'TULE'}]"
     },
     "execution_count": 72,
     "metadata": {},
     "output_type": "execute_result"
    }
   ],
   "source": [
    "database"
   ],
   "metadata": {
    "collapsed": false
   }
  },
  {
   "cell_type": "markdown",
   "source": [
    "# 1. Numpy and matrix operation\n",
    "\n",
    "## INFO: Math entities\n",
    "Scalars, vectors, matrices, and multidimensional matrices are all mathematical objects that are used in different fields, including linear algebra, physics, and computer science.\n",
    "\n",
    "**A scalar** is a single number, such as 1, 2.5, or -3. It has no direction or orientation and can be represented by a single value.\n",
    "\n",
    "**A vector** is an array of numbers arranged in a specific order. It has magnitude (length) and direction and can be represented graphically as an arrow. In two dimensions, a vector can be represented by a pair of numbers (x, y), while in three dimensions, it can be represented by a triplet of numbers (x, y, z).\n",
    "\n",
    "**A matrix** is a rectangular array of numbers arranged in rows and columns. It can be represented by a two-dimensional array, where each element of the array represents a single value in the matrix.\n",
    "\n",
    "**A multidimensional matrix** is a matrix with more than two dimensions. It can be represented as an array of arrays, where each element in the array is itself an array representing a lower-dimensional matrix."
   ],
   "metadata": {
    "collapsed": false
   }
  },
  {
   "cell_type": "code",
   "execution_count": 3,
   "metadata": {
    "ExecuteTime": {
     "end_time": "2023-09-25T08:52:18.675580Z",
     "start_time": "2023-09-25T08:52:18.516252Z"
    }
   },
   "outputs": [],
   "source": [
    "import numpy as np\n",
    "import math"
   ]
  },
  {
   "cell_type": "code",
   "execution_count": 3,
   "outputs": [],
   "source": [],
   "metadata": {
    "collapsed": false,
    "ExecuteTime": {
     "end_time": "2023-09-25T08:52:19.542805Z",
     "start_time": "2023-09-25T08:52:19.523470Z"
    }
   }
  },
  {
   "cell_type": "markdown",
   "metadata": {},
   "source": [
    "## 1.1 Creation of matrix (manual)"
   ]
  },
  {
   "cell_type": "code",
   "execution_count": 4,
   "outputs": [
    {
     "data": {
      "text/plain": "[]"
     },
     "execution_count": 4,
     "metadata": {},
     "output_type": "execute_result"
    }
   ],
   "source": [
    "[]"
   ],
   "metadata": {
    "collapsed": false,
    "ExecuteTime": {
     "end_time": "2023-09-25T08:52:19.873136Z",
     "start_time": "2023-09-25T08:52:19.856712Z"
    }
   }
  },
  {
   "cell_type": "markdown",
   "metadata": {},
   "source": [
    "Create empty empty matrix"
   ]
  },
  {
   "cell_type": "code",
   "execution_count": 5,
   "metadata": {
    "ExecuteTime": {
     "end_time": "2023-09-25T08:52:20.199602Z",
     "start_time": "2023-09-25T08:52:20.184353Z"
    }
   },
   "outputs": [
    {
     "data": {
      "text/plain": "array([], dtype=float64)"
     },
     "execution_count": 5,
     "metadata": {},
     "output_type": "execute_result"
    }
   ],
   "source": [
    "v_empty = np.array([])\n",
    "v_empty"
   ]
  },
  {
   "cell_type": "markdown",
   "metadata": {},
   "source": [
    "Row vector / Riadkovy vektor / 1D:  [1 2 3 4]"
   ]
  },
  {
   "cell_type": "code",
   "execution_count": 6,
   "metadata": {
    "ExecuteTime": {
     "end_time": "2023-09-25T08:52:21.980154Z",
     "start_time": "2023-09-25T08:52:21.945868Z"
    }
   },
   "outputs": [
    {
     "data": {
      "text/plain": "(4,)"
     },
     "execution_count": 6,
     "metadata": {},
     "output_type": "execute_result"
    }
   ],
   "source": [
    "v_row = np.array([1, 2, 3, 4])\n",
    "# v_row = np.array([[1], [2], [3], [4]])\n",
    "v_row.shape"
   ]
  },
  {
   "cell_type": "markdown",
   "metadata": {},
   "source": [
    "Matrix (2D): Manualy defined matrix with two row (1D) vectors [1,2] and [3,4]"
   ]
  },
  {
   "cell_type": "code",
   "execution_count": 7,
   "metadata": {
    "ExecuteTime": {
     "end_time": "2023-09-25T08:52:21.980400Z",
     "start_time": "2023-09-25T08:52:21.951759Z"
    }
   },
   "outputs": [
    {
     "data": {
      "text/plain": "array([[1, 2],\n       [3, 4]])"
     },
     "execution_count": 7,
     "metadata": {},
     "output_type": "execute_result"
    }
   ],
   "source": [
    "A = np.array([[1, 2], [3, 4]])\n",
    "A"
   ]
  },
  {
   "cell_type": "markdown",
   "metadata": {},
   "source": [
    "Column vector (manually) defined):"
   ]
  },
  {
   "cell_type": "code",
   "execution_count": 8,
   "metadata": {
    "ExecuteTime": {
     "end_time": "2023-09-25T08:52:21.980534Z",
     "start_time": "2023-09-25T08:52:21.959329Z"
    }
   },
   "outputs": [
    {
     "data": {
      "text/plain": "array([[1],\n       [2],\n       [3],\n       [4]])"
     },
     "execution_count": 8,
     "metadata": {},
     "output_type": "execute_result"
    }
   ],
   "source": [
    "np.array([[1], [2], [3], [4]])"
   ]
  },
  {
   "cell_type": "markdown",
   "metadata": {},
   "source": [
    "Column vector get by Transpose row vector"
   ]
  },
  {
   "cell_type": "code",
   "execution_count": 9,
   "metadata": {
    "ExecuteTime": {
     "end_time": "2023-09-25T08:52:22.211095Z",
     "start_time": "2023-09-25T08:52:21.962770Z"
    }
   },
   "outputs": [
    {
     "data": {
      "text/plain": "array([[1],\n       [2],\n       [3],\n       [4]])"
     },
     "execution_count": 9,
     "metadata": {},
     "output_type": "execute_result"
    }
   ],
   "source": [
    "v_column = np.array([[1, 2, 3, 4]]).T\n",
    "v_column"
   ]
  },
  {
   "cell_type": "markdown",
   "metadata": {},
   "source": []
  },
  {
   "cell_type": "markdown",
   "metadata": {},
   "source": [
    "## 1.2 Spacial initialization of matrix"
   ]
  },
  {
   "cell_type": "markdown",
   "metadata": {},
   "source": [
    "Linspace:\n",
    "Oparation linspace return 10 elements from 0 to 9 (linearly spread)"
   ]
  },
  {
   "cell_type": "code",
   "execution_count": 10,
   "metadata": {
    "ExecuteTime": {
     "end_time": "2023-09-25T08:52:22.304698Z",
     "start_time": "2023-09-25T08:52:21.971130Z"
    }
   },
   "outputs": [
    {
     "name": "stdout",
     "output_type": "stream",
     "text": [
      "[-5.  -4.5 -4.  -3.5 -3.  -2.5 -2.  -1.5 -1.  -0.5  0.   0.5  1.   1.5\n",
      "  2. ]\n"
     ]
    }
   ],
   "source": [
    "lin_spaced_vector = np.linspace(-5, 2,15)\n",
    "print(lin_spaced_vector)"
   ]
  },
  {
   "cell_type": "markdown",
   "metadata": {},
   "source": []
  },
  {
   "cell_type": "markdown",
   "metadata": {},
   "source": [
    "Create matrix of zeros (2D)"
   ]
  },
  {
   "cell_type": "code",
   "execution_count": 11,
   "metadata": {
    "ExecuteTime": {
     "end_time": "2023-09-25T08:52:22.633564Z",
     "start_time": "2023-09-25T08:52:22.221318Z"
    }
   },
   "outputs": [
    {
     "data": {
      "text/plain": "array([[0., 0., 0.],\n       [0., 0., 0.],\n       [0., 0., 0.]])"
     },
     "execution_count": 11,
     "metadata": {},
     "output_type": "execute_result"
    }
   ],
   "source": [
    "mat_zeros = np.zeros((3, 3))  # tuple as input param\n",
    "mat_zeros"
   ]
  },
  {
   "cell_type": "markdown",
   "metadata": {},
   "source": [
    "Create matrix of zeros (3D)"
   ]
  },
  {
   "cell_type": "code",
   "execution_count": 12,
   "metadata": {
    "ExecuteTime": {
     "end_time": "2023-09-25T08:52:22.678875Z",
     "start_time": "2023-09-25T08:52:22.260697Z"
    }
   },
   "outputs": [
    {
     "data": {
      "text/plain": "array([[[0., 0., 0.],\n        [0., 0., 0.],\n        [0., 0., 0.]],\n\n       [[0., 0., 0.],\n        [0., 0., 0.],\n        [0., 0., 0.]],\n\n       [[0., 0., 0.],\n        [0., 0., 0.],\n        [0., 0., 0.]]])"
     },
     "execution_count": 12,
     "metadata": {},
     "output_type": "execute_result"
    }
   ],
   "source": [
    "mat_zeros = np.zeros((3, 3, 3))  # tuple as input param\n",
    "mat_zeros"
   ]
  },
  {
   "cell_type": "markdown",
   "metadata": {},
   "source": [
    "Create matrix of ones with defined resolution"
   ]
  },
  {
   "cell_type": "code",
   "execution_count": 13,
   "metadata": {
    "ExecuteTime": {
     "end_time": "2023-09-25T08:52:22.722388Z",
     "start_time": "2023-09-25T08:52:22.548767Z"
    }
   },
   "outputs": [
    {
     "data": {
      "text/plain": "array([[1., 1.],\n       [1., 1.],\n       [1., 1.]])"
     },
     "execution_count": 13,
     "metadata": {},
     "output_type": "execute_result"
    }
   ],
   "source": [
    "mat_ones = np.ones((3, 2))\n",
    "mat_ones"
   ]
  },
  {
   "cell_type": "markdown",
   "metadata": {},
   "source": [
    "Create diagonal matrix of ones with defined resolution"
   ]
  },
  {
   "cell_type": "code",
   "execution_count": 14,
   "metadata": {
    "ExecuteTime": {
     "end_time": "2023-09-25T08:52:22.771990Z",
     "start_time": "2023-09-25T08:52:22.607870Z"
    }
   },
   "outputs": [
    {
     "data": {
      "text/plain": "array([[1., 0., 0., 0., 0., 0.],\n       [0., 1., 0., 0., 0., 0.],\n       [0., 0., 1., 0., 0., 0.],\n       [0., 0., 0., 1., 0., 0.],\n       [0., 0., 0., 0., 1., 0.],\n       [0., 0., 0., 0., 0., 1.]])"
     },
     "execution_count": 14,
     "metadata": {},
     "output_type": "execute_result"
    }
   ],
   "source": [
    "mat_eye = np.eye(6)\n",
    "mat_eye"
   ]
  },
  {
   "cell_type": "code",
   "execution_count": 15,
   "outputs": [
    {
     "data": {
      "text/plain": "array([[8., 5., 5., 5., 5., 5.],\n       [5., 8., 5., 5., 5., 5.],\n       [5., 5., 8., 5., 5., 5.],\n       [5., 5., 5., 8., 5., 5.],\n       [5., 5., 5., 5., 8., 5.],\n       [5., 5., 5., 5., 5., 8.]])"
     },
     "execution_count": 15,
     "metadata": {},
     "output_type": "execute_result"
    }
   ],
   "source": [
    "((mat_eye * (-1) + 1) * 5) + mat_eye * 8"
   ],
   "metadata": {
    "collapsed": false,
    "ExecuteTime": {
     "end_time": "2023-09-25T08:52:22.812654Z",
     "start_time": "2023-09-25T08:52:22.642764Z"
    }
   }
  },
  {
   "cell_type": "markdown",
   "metadata": {},
   "source": [
    "Random initialized values in matrix with define resolution"
   ]
  },
  {
   "cell_type": "code",
   "execution_count": 16,
   "metadata": {
    "ExecuteTime": {
     "end_time": "2023-09-25T08:52:22.917767Z",
     "start_time": "2023-09-25T08:52:22.784334Z"
    }
   },
   "outputs": [
    {
     "data": {
      "text/plain": "array([[0.68110863, 0.46179406, 0.99071253],\n       [0.10598444, 0.92903185, 0.18490426]])"
     },
     "execution_count": 16,
     "metadata": {},
     "output_type": "execute_result"
    }
   ],
   "source": [
    "mat_rand = np.random.rand(2, 3)\n",
    "mat_rand"
   ]
  },
  {
   "cell_type": "markdown",
   "metadata": {},
   "source": [
    "## 1.3 Spacial operations"
   ]
  },
  {
   "cell_type": "markdown",
   "metadata": {},
   "source": [
    "If we wanna diagonal matrix with specific value"
   ]
  },
  {
   "cell_type": "code",
   "execution_count": 17,
   "metadata": {
    "ExecuteTime": {
     "end_time": "2023-09-25T08:52:23.708792Z",
     "start_time": "2023-09-25T08:52:23.066652Z"
    }
   },
   "outputs": [
    {
     "data": {
      "text/plain": "array([[5., 0., 0.],\n       [0., 5., 0.],\n       [0., 0., 5.]])"
     },
     "execution_count": 17,
     "metadata": {},
     "output_type": "execute_result"
    }
   ],
   "source": [
    "mat_eye = np.eye(3)*5\n",
    "mat_eye"
   ]
  },
  {
   "cell_type": "code",
   "execution_count": 18,
   "outputs": [
    {
     "data": {
      "text/plain": "array([[5., 0., 0.],\n       [0., 5., 0.],\n       [0., 0., 5.]])"
     },
     "execution_count": 18,
     "metadata": {},
     "output_type": "execute_result"
    }
   ],
   "source": [
    "mat_eye"
   ],
   "metadata": {
    "collapsed": false,
    "ExecuteTime": {
     "end_time": "2023-09-25T08:52:23.955399Z",
     "start_time": "2023-09-25T08:52:23.167443Z"
    }
   }
  },
  {
   "cell_type": "code",
   "execution_count": 19,
   "outputs": [
    {
     "data": {
      "text/plain": "array([[False,  True,  True],\n       [ True, False,  True],\n       [ True,  True, False]])"
     },
     "execution_count": 19,
     "metadata": {},
     "output_type": "execute_result"
    }
   ],
   "source": [
    "mat_eye==0"
   ],
   "metadata": {
    "collapsed": false,
    "ExecuteTime": {
     "end_time": "2023-09-25T08:52:24.038629Z",
     "start_time": "2023-09-25T08:52:23.210872Z"
    }
   }
  },
  {
   "cell_type": "markdown",
   "metadata": {},
   "source": [
    "If we wanna also changes zeros"
   ]
  },
  {
   "cell_type": "code",
   "execution_count": 20,
   "metadata": {
    "ExecuteTime": {
     "end_time": "2023-09-25T08:52:24.273408Z",
     "start_time": "2023-09-25T08:52:23.439586Z"
    }
   },
   "outputs": [
    {
     "data": {
      "text/plain": "array([[5., 3., 3.],\n       [3., 5., 3.],\n       [3., 3., 5.]])"
     },
     "execution_count": 20,
     "metadata": {},
     "output_type": "execute_result"
    }
   ],
   "source": [
    "mat_eye[mat_eye==0] = 3\n",
    "mat_eye\n",
    "\n",
    "\n",
    "\n",
    "mat_eye[mat_eye <= 1 ] = -999\n",
    "mat_eye"
   ]
  },
  {
   "cell_type": "markdown",
   "metadata": {},
   "source": [
    "## 1.4 Get element from matrix"
   ]
  },
  {
   "cell_type": "code",
   "execution_count": 21,
   "metadata": {
    "ExecuteTime": {
     "end_time": "2023-09-25T08:52:24.396066Z",
     "start_time": "2023-09-25T08:52:23.647250Z"
    }
   },
   "outputs": [
    {
     "name": "stdout",
     "output_type": "stream",
     "text": [
      "4 <class 'numpy.int64'>\n",
      "4 <class 'numpy.int64'>\n",
      "[4] <class 'numpy.ndarray'>\n",
      "[4 5] <class 'numpy.ndarray'>\n",
      "[4 5 4] <class 'numpy.ndarray'>\n",
      "[0 9] <class 'numpy.ndarray'>\n",
      "[4 5 4] <class 'numpy.ndarray'>\n",
      "9 <class 'numpy.int64'>\n",
      "[4 5 4 0] <class 'numpy.ndarray'>\n"
     ]
    }
   ],
   "source": [
    "vec = np.array([4, 5, 4, 0, 9])\n",
    "print(vec[0], type(vec[0]))\n",
    "print(vec[2], type(vec[2]))\n",
    "print(vec[0:1], type(vec[0:1]))\n",
    "print(vec[0:2], type(vec[0:2]))\n",
    "print(vec[0:3], type(vec[0:3]))\n",
    "print(vec[3:], type(vec[1:]))\n",
    "print(vec[:3], type(vec[:3]))\n",
    "print(vec[-1], type(vec[-1]))\n",
    "print(vec[0:4], type(vec[0:3]))"
   ]
  },
  {
   "cell_type": "code",
   "execution_count": 22,
   "metadata": {
    "ExecuteTime": {
     "end_time": "2023-09-25T08:52:24.432176Z",
     "start_time": "2023-09-25T08:52:23.665152Z"
    }
   },
   "outputs": [
    {
     "name": "stdout",
     "output_type": "stream",
     "text": [
      "[[ 1  2  3]\n",
      " [ 4  5  6]\n",
      " [ 7  8  9]\n",
      " [10 11 12]]\n"
     ]
    }
   ],
   "source": [
    "mat = np.array([[1, 2, 3], [4, 5, 6], [7, 8, 9], [10, 11, 12]])\n",
    "print(mat)"
   ]
  },
  {
   "cell_type": "code",
   "execution_count": 23,
   "outputs": [
    {
     "name": "stdout",
     "output_type": "stream",
     "text": [
      "[[4 5 6]\n",
      " [7 8 9]]\n"
     ]
    }
   ],
   "source": [
    "print(mat[1:3])"
   ],
   "metadata": {
    "collapsed": false,
    "ExecuteTime": {
     "end_time": "2023-09-25T08:52:24.463949Z",
     "start_time": "2023-09-25T08:52:23.751686Z"
    }
   }
  },
  {
   "cell_type": "code",
   "execution_count": 24,
   "metadata": {
    "ExecuteTime": {
     "end_time": "2023-09-25T08:52:24.516058Z",
     "start_time": "2023-09-25T08:52:23.804390Z"
    }
   },
   "outputs": [],
   "source": [
    "# todo -> make clear example\n",
    "#print(\"Accessing  element at (2,3) / Pristup k elementu (2,3)\", mat[1][2])\n",
    "#print(\"Accesing different elements through sequences:/ Dynamicky pristup k elementom matic\")\n",
    "#print(mat[0][:])  # vrati prvy riadok ako riadkovy vektor\n",
    "#print(\"\")\n",
    "#print(mat[:][1])  # vrati druhy stlpec ako riadkovy vektor !!!\n",
    "#print(\"\")\n",
    "#print(mat[1:3, 1:3])  # submatica zacinajuca na 2,2\n",
    "#print(\"\")\n",
    "#print(mat[1:, 1:])  # (2,2) + till end\n",
    "#print(\"\")\n",
    "#print(mat[:3, :3])  # od [] -> to index [3 3]"
   ]
  },
  {
   "cell_type": "markdown",
   "metadata": {},
   "source": [
    "Get resolution/shape of matrix"
   ]
  },
  {
   "cell_type": "code",
   "execution_count": 25,
   "metadata": {
    "ExecuteTime": {
     "end_time": "2023-09-25T08:52:24.562734Z",
     "start_time": "2023-09-25T08:52:24.029242Z"
    }
   },
   "outputs": [
    {
     "name": "stdout",
     "output_type": "stream",
     "text": [
      "Shape of the matrix/ Rozmery matice:  (4, 3)\n",
      "Shape of the matrix/ Rozmery matice:  4\n",
      "Shape of the matrix/ Rozmery matice:  3\n"
     ]
    }
   ],
   "source": [
    "print(\"Shape of the matrix/ Rozmery matice: \", mat.shape)\n",
    "print(\"Shape of the matrix/ Rozmery matice: \", mat.shape[0])\n",
    "print(\"Shape of the matrix/ Rozmery matice: \", mat.shape[1])"
   ]
  },
  {
   "cell_type": "code",
   "execution_count": 26,
   "metadata": {
    "ExecuteTime": {
     "end_time": "2023-09-25T08:52:24.599891Z",
     "start_time": "2023-09-25T08:52:24.092344Z"
    }
   },
   "outputs": [],
   "source": [
    "# Jednoduché operácie s vektormi a maticam:"
   ]
  },
  {
   "cell_type": "markdown",
   "metadata": {},
   "source": [
    "## 1.5 Matrix and math operations"
   ]
  },
  {
   "cell_type": "code",
   "execution_count": 27,
   "metadata": {
    "ExecuteTime": {
     "end_time": "2023-09-25T08:52:24.604694Z",
     "start_time": "2023-09-25T08:52:24.262833Z"
    }
   },
   "outputs": [
    {
     "name": "stdout",
     "output_type": "stream",
     "text": [
      "[[1]\n",
      " [2]\n",
      " [3]\n",
      " [4]]\n"
     ]
    }
   ],
   "source": [
    "vec_a = np.array([[1, 2, 3, 4]]).T\n",
    "print(vec_a)"
   ]
  },
  {
   "cell_type": "code",
   "execution_count": 28,
   "metadata": {
    "ExecuteTime": {
     "end_time": "2023-09-25T08:52:24.640273Z",
     "start_time": "2023-09-25T08:52:24.315206Z"
    }
   },
   "outputs": [
    {
     "name": "stdout",
     "output_type": "stream",
     "text": [
      "[[2 4 6 8]]\n"
     ]
    }
   ],
   "source": [
    "vec_b = np.array([[2, 4, 6, 8]])\n",
    "print(vec_b)"
   ]
  },
  {
   "cell_type": "code",
   "execution_count": 29,
   "metadata": {
    "ExecuteTime": {
     "end_time": "2023-09-25T08:52:24.659721Z",
     "start_time": "2023-09-25T08:52:24.387922Z"
    }
   },
   "outputs": [
    {
     "name": "stdout",
     "output_type": "stream",
     "text": [
      "[1 2 3 4]\n",
      "[1 2 3 4]\n"
     ]
    }
   ],
   "source": [
    "# WARNING\n",
    "test_v = np.array([1, 2, 3, 4])\n",
    "print(test_v)\n",
    "print(test_v.T)"
   ]
  },
  {
   "cell_type": "code",
   "execution_count": 30,
   "metadata": {
    "ExecuteTime": {
     "end_time": "2023-09-25T08:52:24.663936Z",
     "start_time": "2023-09-25T08:52:24.444854Z"
    }
   },
   "outputs": [
    {
     "name": "stdout",
     "output_type": "stream",
     "text": [
      "[[1 2 3 4]]\n",
      "[[1]\n",
      " [2]\n",
      " [3]\n",
      " [4]]\n"
     ]
    }
   ],
   "source": [
    "test_v = np.array([[1, 2, 3, 4]])\n",
    "print(test_v)\n",
    "print(test_v.T)"
   ]
  },
  {
   "cell_type": "code",
   "execution_count": 31,
   "metadata": {
    "ExecuteTime": {
     "end_time": "2023-09-25T08:52:24.794576Z",
     "start_time": "2023-09-25T08:52:24.574554Z"
    }
   },
   "outputs": [
    {
     "name": "stdout",
     "output_type": "stream",
     "text": [
      "[[2]\n",
      " [4]\n",
      " [6]\n",
      " [8]]\n"
     ]
    }
   ],
   "source": [
    "print(2 * vec_a)"
   ]
  },
  {
   "cell_type": "code",
   "execution_count": 32,
   "metadata": {
    "ExecuteTime": {
     "end_time": "2023-09-25T08:52:24.799807Z",
     "start_time": "2023-09-25T08:52:24.631770Z"
    }
   },
   "outputs": [
    {
     "name": "stdout",
     "output_type": "stream",
     "text": [
      "[[0.5]\n",
      " [1. ]\n",
      " [1.5]\n",
      " [2. ]]\n"
     ]
    }
   ],
   "source": [
    "print(vec_a / 2)"
   ]
  },
  {
   "cell_type": "code",
   "execution_count": 33,
   "metadata": {
    "ExecuteTime": {
     "end_time": "2023-09-25T08:52:24.886190Z",
     "start_time": "2023-09-25T08:52:24.768186Z"
    }
   },
   "outputs": [
    {
     "name": "stdout",
     "output_type": "stream",
     "text": [
      "[[ 1]\n",
      " [ 8]\n",
      " [27]\n",
      " [64]]\n"
     ]
    }
   ],
   "source": [
    "print(vec_a ** 3)"
   ]
  },
  {
   "cell_type": "code",
   "execution_count": 34,
   "metadata": {
    "ExecuteTime": {
     "end_time": "2023-09-25T08:52:24.947602Z",
     "start_time": "2023-09-25T08:52:24.812147Z"
    }
   },
   "outputs": [
    {
     "name": "stdout",
     "output_type": "stream",
     "text": [
      "[[ 2  4  6  8]\n",
      " [ 4  8 12 16]\n",
      " [ 6 12 18 24]\n",
      " [ 8 16 24 32]]\n"
     ]
    }
   ],
   "source": [
    "print(vec_a * vec_b)"
   ]
  },
  {
   "cell_type": "code",
   "execution_count": 35,
   "metadata": {
    "ExecuteTime": {
     "end_time": "2023-09-25T08:52:24.952966Z",
     "start_time": "2023-09-25T08:52:24.882431Z"
    }
   },
   "outputs": [
    {
     "name": "stdout",
     "output_type": "stream",
     "text": [
      "[[ 3]\n",
      " [ 8]\n",
      " [15]\n",
      " [24]]\n"
     ]
    }
   ],
   "source": [
    "print(vec_a * (vec_a+2))"
   ]
  },
  {
   "cell_type": "code",
   "execution_count": 36,
   "metadata": {
    "ExecuteTime": {
     "end_time": "2023-09-25T08:52:25.094333Z",
     "start_time": "2023-09-25T08:52:24.961774Z"
    }
   },
   "outputs": [
    {
     "name": "stdout",
     "output_type": "stream",
     "text": [
      "[[1.]\n",
      " [1.]\n",
      " [1.]\n",
      " [1.]]\n"
     ]
    }
   ],
   "source": [
    "print(vec_a / vec_a)"
   ]
  },
  {
   "cell_type": "code",
   "execution_count": 37,
   "metadata": {
    "ExecuteTime": {
     "end_time": "2023-09-25T08:52:25.337632Z",
     "start_time": "2023-09-25T08:52:25.089340Z"
    }
   },
   "outputs": [
    {
     "name": "stdout",
     "output_type": "stream",
     "text": [
      "[[2.         4.         6.         8.        ]\n",
      " [1.         2.         3.         4.        ]\n",
      " [0.66666667 1.33333333 2.         2.66666667]\n",
      " [0.5        1.         1.5        2.        ]]\n"
     ]
    }
   ],
   "source": [
    "print(vec_b / vec_a)"
   ]
  },
  {
   "cell_type": "code",
   "execution_count": 38,
   "metadata": {
    "ExecuteTime": {
     "end_time": "2023-09-25T08:52:25.519558Z",
     "start_time": "2023-09-25T08:52:25.154840Z"
    }
   },
   "outputs": [
    {
     "name": "stdout",
     "output_type": "stream",
     "text": [
      "[[-1 -3 -5 -7]\n",
      " [ 0 -2 -4 -6]\n",
      " [ 1 -1 -3 -5]\n",
      " [ 2  0 -2 -4]]\n"
     ]
    }
   ],
   "source": [
    "print(vec_a - vec_b)"
   ]
  },
  {
   "cell_type": "code",
   "execution_count": 39,
   "metadata": {
    "ExecuteTime": {
     "end_time": "2023-09-25T08:52:25.618423Z",
     "start_time": "2023-09-25T08:52:25.250500Z"
    }
   },
   "outputs": [
    {
     "name": "stdout",
     "output_type": "stream",
     "text": [
      "[[ 1  3  5  7]\n",
      " [ 0  2  4  6]\n",
      " [-1  1  3  5]\n",
      " [-2  0  2  4]]\n"
     ]
    }
   ],
   "source": [
    "print(vec_b - vec_a)"
   ]
  },
  {
   "cell_type": "code",
   "execution_count": 40,
   "metadata": {
    "ExecuteTime": {
     "end_time": "2023-09-25T08:52:25.731515Z",
     "start_time": "2023-09-25T08:52:25.310235Z"
    }
   },
   "outputs": [
    {
     "name": "stdout",
     "output_type": "stream",
     "text": [
      "[[0.        ]\n",
      " [0.69314718]\n",
      " [1.09861229]\n",
      " [1.38629436]]\n"
     ]
    }
   ],
   "source": [
    "print(np.log(vec_a))"
   ]
  },
  {
   "cell_type": "code",
   "execution_count": 41,
   "metadata": {
    "ExecuteTime": {
     "end_time": "2023-09-25T08:52:25.811976Z",
     "start_time": "2023-09-25T08:52:25.402589Z"
    }
   },
   "outputs": [
    {
     "name": "stdout",
     "output_type": "stream",
     "text": [
      "[[0.  ]\n",
      " [0.69]\n",
      " [1.1 ]\n",
      " [1.39]]\n"
     ]
    }
   ],
   "source": [
    "print(np.round(np.log(vec_a),2))"
   ]
  },
  {
   "cell_type": "markdown",
   "metadata": {},
   "source": [
    " ## 1.6 Matrix scalar operations"
   ]
  },
  {
   "cell_type": "code",
   "execution_count": 42,
   "metadata": {
    "ExecuteTime": {
     "end_time": "2023-09-25T08:52:25.957596Z",
     "start_time": "2023-09-25T08:52:25.613682Z"
    }
   },
   "outputs": [
    {
     "name": "stdout",
     "output_type": "stream",
     "text": [
      "10\n",
      "2.5\n",
      "1.25\n",
      "1.118033988749895\n",
      "1 4\n"
     ]
    }
   ],
   "source": [
    "print(np.sum(vec_a)) # sucet\n",
    "print(np.mean(vec_a)) # priemer\n",
    "print(np.var(vec_a)) # rozptil\n",
    "print(np.std(vec_a)) # smerodajna odchylka\n",
    "print(np.min(vec_a), np.max(vec_a)) #min, max"
   ]
  },
  {
   "cell_type": "code",
   "execution_count": 43,
   "outputs": [
    {
     "data": {
      "text/plain": "array([[ 1,  2,  3],\n       [ 4,  5,  6],\n       [ 7,  8,  9],\n       [10, 11, 12]])"
     },
     "execution_count": 43,
     "metadata": {},
     "output_type": "execute_result"
    }
   ],
   "source": [
    "mat"
   ],
   "metadata": {
    "collapsed": false,
    "ExecuteTime": {
     "end_time": "2023-09-25T08:52:25.961669Z",
     "start_time": "2023-09-25T08:52:25.658795Z"
    }
   }
  },
  {
   "cell_type": "code",
   "execution_count": 44,
   "metadata": {
    "ExecuteTime": {
     "end_time": "2023-09-25T08:52:26.018465Z",
     "start_time": "2023-09-25T08:52:25.795451Z"
    }
   },
   "outputs": [
    {
     "name": "stdout",
     "output_type": "stream",
     "text": [
      "Max of mat along axis 0:  [10 11 12]\n",
      "Max of mat along axis 1:  [ 3  6  9 12]\n",
      "Mean of mat along axis 0:  [5.5 6.5 7.5]\n",
      "Mean of mat along axis 1:  [ 2.  5.  8. 11.]\n"
     ]
    }
   ],
   "source": [
    "print(\"Max of mat along axis 0: \", np.max(mat, 0))\n",
    "print(\"Max of mat along axis 1: \", np.max(mat, 1))\n",
    "print(\"Mean of mat along axis 0: \", np.mean(mat, 0))\n",
    "print(\"Mean of mat along axis 1: \", np.mean(mat, 1))"
   ]
  },
  {
   "cell_type": "markdown",
   "metadata": {},
   "source": [
    "Determinant"
   ]
  },
  {
   "cell_type": "code",
   "execution_count": 45,
   "metadata": {
    "ExecuteTime": {
     "end_time": "2023-09-25T08:52:26.102988Z",
     "start_time": "2023-09-25T08:52:25.924972Z"
    }
   },
   "outputs": [
    {
     "data": {
      "text/plain": "array([[0.07125326, 0.8223147 , 0.86224915, 0.63107807],\n       [0.76789702, 0.08750262, 0.63730842, 0.57829087],\n       [0.7567088 , 0.94919419, 0.0164672 , 0.74755695],\n       [0.21945033, 0.5535335 , 0.25893179, 0.52119733]])"
     },
     "execution_count": 45,
     "metadata": {},
     "output_type": "execute_result"
    }
   ],
   "source": [
    "matrix = np.random.rand(4,4)\n",
    "matrix\n",
    "# np.linalg.det(matrix)"
   ]
  },
  {
   "cell_type": "markdown",
   "metadata": {},
   "source": [
    "Get diagonal from matrix"
   ]
  },
  {
   "cell_type": "code",
   "execution_count": 46,
   "metadata": {
    "ExecuteTime": {
     "end_time": "2023-09-25T08:52:26.153524Z",
     "start_time": "2023-09-25T08:52:26.094829Z"
    }
   },
   "outputs": [
    {
     "name": "stdout",
     "output_type": "stream",
     "text": [
      "[0.07125326 0.08750262 0.0164672  0.52119733]\n"
     ]
    }
   ],
   "source": [
    "print(np.diag(matrix))"
   ]
  },
  {
   "cell_type": "code",
   "execution_count": 47,
   "metadata": {
    "ExecuteTime": {
     "end_time": "2023-09-25T08:52:26.224747Z",
     "start_time": "2023-09-25T08:52:26.145616Z"
    }
   },
   "outputs": [
    {
     "name": "stdout",
     "output_type": "stream",
     "text": [
      "[0.86224915 0.57829087]\n"
     ]
    }
   ],
   "source": [
    "print(np.diag(matrix,2))"
   ]
  },
  {
   "cell_type": "code",
   "execution_count": 48,
   "metadata": {
    "ExecuteTime": {
     "end_time": "2023-09-25T08:52:26.315336Z",
     "start_time": "2023-09-25T08:52:26.253748Z"
    }
   },
   "outputs": [
    {
     "name": "stdout",
     "output_type": "stream",
     "text": [
      "[0.76789702 0.94919419 0.25893179]\n"
     ]
    }
   ],
   "source": [
    "print(np.diag(matrix,-1))"
   ]
  },
  {
   "cell_type": "code",
   "execution_count": 49,
   "outputs": [
    {
     "data": {
      "text/plain": "array([[1, 2],\n       [3, 4]])"
     },
     "execution_count": 49,
     "metadata": {},
     "output_type": "execute_result"
    }
   ],
   "source": [
    "A"
   ],
   "metadata": {
    "collapsed": false,
    "ExecuteTime": {
     "end_time": "2023-09-25T08:52:26.421636Z",
     "start_time": "2023-09-25T08:52:26.308750Z"
    }
   }
  },
  {
   "cell_type": "code",
   "execution_count": 50,
   "metadata": {
    "ExecuteTime": {
     "end_time": "2023-09-25T08:52:26.536236Z",
     "start_time": "2023-09-25T08:52:26.413624Z"
    }
   },
   "outputs": [
    {
     "name": "stdout",
     "output_type": "stream",
     "text": [
      "[[1 2]\n",
      " [1 2]\n",
      " [3 4]\n",
      " [3 4]]\n"
     ]
    }
   ],
   "source": [
    "print(np.repeat(A, 2,axis=0))"
   ]
  },
  {
   "cell_type": "code",
   "execution_count": 51,
   "outputs": [
    {
     "data": {
      "text/plain": "array([1, 1, 2, 2, 3, 3, 4, 4])"
     },
     "execution_count": 51,
     "metadata": {},
     "output_type": "execute_result"
    }
   ],
   "source": [
    "np.repeat(A, 2)"
   ],
   "metadata": {
    "collapsed": false,
    "ExecuteTime": {
     "end_time": "2023-09-25T08:52:26.585155Z",
     "start_time": "2023-09-25T08:52:26.461295Z"
    }
   }
  },
  {
   "cell_type": "code",
   "execution_count": 52,
   "metadata": {
    "ExecuteTime": {
     "end_time": "2023-09-25T08:52:26.659572Z",
     "start_time": "2023-09-25T08:52:26.576521Z"
    }
   },
   "outputs": [
    {
     "name": "stdout",
     "output_type": "stream",
     "text": [
      "[[1 1 2 2]\n",
      " [3 3 4 4]]\n"
     ]
    }
   ],
   "source": [
    "print(np.repeat(A, 2,axis=1))"
   ]
  },
  {
   "cell_type": "code",
   "execution_count": 53,
   "metadata": {
    "ExecuteTime": {
     "end_time": "2023-09-25T08:52:26.689268Z",
     "start_time": "2023-09-25T08:52:26.636514Z"
    }
   },
   "outputs": [
    {
     "data": {
      "text/plain": "array([[1, 2],\n       [3, 4]])"
     },
     "execution_count": 53,
     "metadata": {},
     "output_type": "execute_result"
    }
   ],
   "source": [
    "A"
   ]
  },
  {
   "cell_type": "code",
   "execution_count": 54,
   "metadata": {
    "ExecuteTime": {
     "end_time": "2023-09-25T08:52:27.249990Z",
     "start_time": "2023-09-25T08:52:27.220316Z"
    }
   },
   "outputs": [
    {
     "data": {
      "text/plain": "array([[ 1,  2],\n       [ 3,  4],\n       [-1, -2],\n       [-3, -4]])"
     },
     "execution_count": 54,
     "metadata": {},
     "output_type": "execute_result"
    }
   ],
   "source": [
    "np.append(A, A*(-1),axis=0)"
   ]
  },
  {
   "cell_type": "code",
   "execution_count": 55,
   "metadata": {
    "ExecuteTime": {
     "end_time": "2023-09-25T08:52:27.495824Z",
     "start_time": "2023-09-25T08:52:27.434940Z"
    }
   },
   "outputs": [
    {
     "data": {
      "text/plain": "array([[ 1,  2, -1, -2],\n       [ 3,  4, -3, -4]])"
     },
     "execution_count": 55,
     "metadata": {},
     "output_type": "execute_result"
    }
   ],
   "source": [
    "np.append(A, A*(-1),axis=1)"
   ]
  },
  {
   "cell_type": "code",
   "execution_count": 56,
   "outputs": [
    {
     "data": {
      "text/plain": "array([[0.07125326, 0.8223147 , 0.86224915, 0.63107807],\n       [0.76789702, 0.08750262, 0.63730842, 0.57829087],\n       [0.7567088 , 0.94919419, 0.0164672 , 0.74755695],\n       [0.21945033, 0.5535335 , 0.25893179, 0.52119733]])"
     },
     "execution_count": 56,
     "metadata": {},
     "output_type": "execute_result"
    }
   ],
   "source": [
    "matrix"
   ],
   "metadata": {
    "collapsed": false,
    "ExecuteTime": {
     "end_time": "2023-09-25T08:52:27.789453Z",
     "start_time": "2023-09-25T08:52:27.703262Z"
    }
   }
  },
  {
   "cell_type": "markdown",
   "metadata": {},
   "source": [
    "Change shape of matrix"
   ]
  },
  {
   "cell_type": "code",
   "execution_count": 57,
   "metadata": {
    "ExecuteTime": {
     "end_time": "2023-09-25T08:52:28.089758Z",
     "start_time": "2023-09-25T08:52:28.020059Z"
    }
   },
   "outputs": [
    {
     "data": {
      "text/plain": "array([[0.07125326, 0.8223147 , 0.86224915, 0.63107807, 0.76789702,\n        0.08750262, 0.63730842, 0.57829087],\n       [0.7567088 , 0.94919419, 0.0164672 , 0.74755695, 0.21945033,\n        0.5535335 , 0.25893179, 0.52119733]])"
     },
     "execution_count": 57,
     "metadata": {},
     "output_type": "execute_result"
    }
   ],
   "source": [
    "matrix.reshape(2,8)"
   ]
  },
  {
   "cell_type": "markdown",
   "metadata": {},
   "source": [
    "Matrix concatenation"
   ]
  },
  {
   "cell_type": "code",
   "execution_count": 58,
   "metadata": {
    "ExecuteTime": {
     "end_time": "2023-09-25T08:52:28.425262Z",
     "start_time": "2023-09-25T08:52:28.352035Z"
    }
   },
   "outputs": [
    {
     "data": {
      "text/plain": "array([[1],\n       [2],\n       [3],\n       [4],\n       [2],\n       [4],\n       [6],\n       [8]])"
     },
     "execution_count": 58,
     "metadata": {},
     "output_type": "execute_result"
    }
   ],
   "source": [
    "np.concatenate((vec_a, vec_b.T), 0)"
   ]
  },
  {
   "cell_type": "code",
   "execution_count": 58,
   "outputs": [],
   "source": [],
   "metadata": {
    "collapsed": false,
    "ExecuteTime": {
     "end_time": "2023-09-25T08:52:28.681173Z",
     "start_time": "2023-09-25T08:52:28.556364Z"
    }
   }
  },
  {
   "cell_type": "code",
   "execution_count": 59,
   "metadata": {
    "ExecuteTime": {
     "end_time": "2023-09-25T08:52:28.832300Z",
     "start_time": "2023-09-25T08:52:28.771495Z"
    }
   },
   "outputs": [
    {
     "data": {
      "text/plain": "array([[1, 2],\n       [2, 4],\n       [3, 6],\n       [4, 8]])"
     },
     "execution_count": 59,
     "metadata": {},
     "output_type": "execute_result"
    }
   ],
   "source": [
    "np.concatenate((vec_a, vec_b.T), 1)"
   ]
  },
  {
   "cell_type": "code",
   "execution_count": 60,
   "metadata": {
    "ExecuteTime": {
     "end_time": "2023-09-25T08:52:28.968558Z",
     "start_time": "2023-09-25T08:52:28.861060Z"
    }
   },
   "outputs": [
    {
     "name": "stderr",
     "output_type": "stream",
     "text": [
      "/var/folders/mt/zbsgqls91d5c1dt725ckq4lc0000gn/T/ipykernel_74652/2904819320.py:1: VisibleDeprecationWarning: Creating an ndarray from ragged nested sequences (which is a list-or-tuple of lists-or-tuples-or ndarrays with different lengths or shapes) is deprecated. If you meant to do this, you must specify 'dtype=object' when creating the ndarray.\n",
      "  np.array((vec_a, vec_b))\n"
     ]
    },
    {
     "data": {
      "text/plain": "array([array([[1],\n              [2],\n              [3],\n              [4]]), array([[2, 4, 6, 8]])], dtype=object)"
     },
     "execution_count": 60,
     "metadata": {},
     "output_type": "execute_result"
    }
   ],
   "source": [
    "np.array((vec_a, vec_b))"
   ]
  },
  {
   "cell_type": "markdown",
   "metadata": {},
   "source": []
  },
  {
   "cell_type": "markdown",
   "metadata": {},
   "source": [
    " ## 1.7 Matrix vector operations"
   ]
  },
  {
   "cell_type": "markdown",
   "metadata": {},
   "source": [
    "Velmi dolezitymi operaciami s maticami su vypocty skalarnych a vektorovych sucinov. Tieto operacie si je potrebne osvojit a vediet sa orientovat v roznych zapisoch."
   ]
  },
  {
   "cell_type": "code",
   "execution_count": 61,
   "metadata": {
    "ExecuteTime": {
     "end_time": "2023-09-25T08:52:29.598239Z",
     "start_time": "2023-09-25T08:52:29.540687Z"
    }
   },
   "outputs": [],
   "source": [
    "mat_a = np.array([[1, 2, 3]])\n",
    "mat_b = np.array([[4, 5, 6]])"
   ]
  },
  {
   "cell_type": "code",
   "execution_count": 62,
   "metadata": {
    "ExecuteTime": {
     "end_time": "2023-09-25T08:52:29.823282Z",
     "start_time": "2023-09-25T08:52:29.807150Z"
    }
   },
   "outputs": [
    {
     "name": "stdout",
     "output_type": "stream",
     "text": [
      "[[ 4 10 18]]\n",
      "[[ 4  5  6]\n",
      " [ 8 10 12]\n",
      " [12 15 18]]\n",
      "[[ 4  8 12]\n",
      " [ 5 10 15]\n",
      " [ 6 12 18]]\n",
      "[[ 4  5  6]\n",
      " [ 8 10 12]\n",
      " [12 15 18]]\n"
     ]
    }
   ],
   "source": [
    "print(mat_a * mat_b)    # elementwise\n",
    "print(mat_a.T * mat_b)  # vektorovy sucin\n",
    "print(mat_a * mat_b.T)  # vektorovy sucin\n",
    "print(mat_a.T @ mat_b)  # skalarny sucin"
   ]
  },
  {
   "cell_type": "markdown",
   "metadata": {},
   "source": [
    "# Linear algebra:"
   ]
  },
  {
   "cell_type": "code",
   "execution_count": 63,
   "metadata": {
    "ExecuteTime": {
     "end_time": "2023-09-25T08:52:30.096142Z",
     "start_time": "2023-09-25T08:52:30.089452Z"
    }
   },
   "outputs": [
    {
     "name": "stdout",
     "output_type": "stream",
     "text": [
      "Eigen values: \n",
      " [-0.44179474  0.5796728   1.20401036] \n",
      " Eigen matrix\n",
      " [[ 0.63410244 -0.23090099 -0.37695771]\n",
      " [ 0.2368094   0.88367457 -0.73337265]\n",
      " [-0.7360947  -0.40719037 -0.56574503]]\n"
     ]
    }
   ],
   "source": [
    "V, D = np.linalg.eig(np.random.rand(3, 3))\n",
    "print(\"Eigen values: \\n\",V,\"\\n Eigen matrix\\n\",D)"
   ]
  },
  {
   "cell_type": "code",
   "execution_count": 64,
   "metadata": {
    "ExecuteTime": {
     "end_time": "2023-09-25T08:52:30.589941Z",
     "start_time": "2023-09-25T08:52:30.583006Z"
    }
   },
   "outputs": [
    {
     "name": "stdout",
     "output_type": "stream",
     "text": [
      "SVD single value decomposition: \n",
      " [[-0.57515584  0.55055595 -0.60504868]\n",
      " [-0.4288109  -0.8327767  -0.3501488 ]\n",
      " [-0.69664695  0.05806134  0.71506077]] \n",
      " Eigen matrix\n",
      " [2.04013375 0.36072223 0.25172336] \n",
      " Eigen matrix\n",
      " [[-0.63365218 -0.48734951 -0.60081226]\n",
      " [-0.59580925  0.80280177 -0.02281781]\n",
      " [ 0.4934534   0.34351095 -0.79906444]]\n"
     ]
    }
   ],
   "source": [
    "U, S, V = np.linalg.svd(np.random.rand(3, 3))\n",
    "print(\"SVD single value decomposition: \\n\", U,\"\\n Eigen matrix\\n\",S,\"\\n Eigen matrix\\n\",V) # a = U * S * V'"
   ]
  },
  {
   "cell_type": "code",
   "execution_count": 64,
   "outputs": [],
   "source": [],
   "metadata": {
    "collapsed": false,
    "pycharm": {
     "is_executing": true
    },
    "ExecuteTime": {
     "end_time": "2023-09-25T08:52:30.777756Z",
     "start_time": "2023-09-25T08:52:30.769711Z"
    }
   }
  },
  {
   "cell_type": "code",
   "execution_count": 127,
   "outputs": [],
   "source": [],
   "metadata": {
    "collapsed": false
   }
  }
 ],
 "metadata": {
  "kernelspec": {
   "display_name": "Python 3 (ipykernel)",
   "language": "python",
   "name": "python3"
  },
  "language_info": {
   "codemirror_mode": {
    "name": "ipython",
    "version": 3
   },
   "file_extension": ".py",
   "mimetype": "text/x-python",
   "name": "python",
   "nbconvert_exporter": "python",
   "pygments_lexer": "ipython3",
   "version": "3.9.7"
  }
 },
 "nbformat": 4,
 "nbformat_minor": 4
}
